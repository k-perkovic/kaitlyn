{
 "cells": [
  {
   "cell_type": "markdown",
   "id": "65e25816-1e20-42f9-ac41-7357394691be",
   "metadata": {},
   "source": [
    "# Systems Check\n",
    "## Kaitlyn Perkovic\n",
    "### 8/22/2024\n",
    "\n",
    "In this class I want to learn more about __data__ _terminology_ and what they mean and how we can use the terminology, such as:\n",
    "\n",
    "1. API\n",
    "2. Syntax\n",
    "\n",
    "I also hope to get more comfortable using the MacOS system.\n",
    "\n",
    "![cat](https://cdn.theatlantic.com/thumbor/Kto-jp-IrA7TydSu5W5uB1FBDmA=/0x131:2555x1568/1952x1098/media/img/mt/2017/06/shutterstock_319985324/original.jpg)\n",
    "\n"
   ]
  },
  {
   "cell_type": "code",
   "execution_count": null,
   "id": "e7d46629-e782-40dd-a257-80de24a90571",
   "metadata": {},
   "outputs": [],
   "source": []
  }
 ],
 "metadata": {
  "kernelspec": {
   "display_name": "Python 3 (ipykernel)",
   "language": "python",
   "name": "python3"
  },
  "language_info": {
   "codemirror_mode": {
    "name": "ipython",
    "version": 3
   },
   "file_extension": ".py",
   "mimetype": "text/x-python",
   "name": "python",
   "nbconvert_exporter": "python",
   "pygments_lexer": "ipython3",
   "version": "3.12.4"
  }
 },
 "nbformat": 4,
 "nbformat_minor": 5
}
