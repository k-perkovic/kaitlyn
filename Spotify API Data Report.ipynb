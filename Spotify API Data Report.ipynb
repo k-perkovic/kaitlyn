{
 "cells": [
  {
   "cell_type": "markdown",
   "id": "9fc8b85f-88ae-4330-b202-841be14d32db",
   "metadata": {},
   "source": [
    "## Kaitlyn Perkovic - Spotify API Data Report\n",
    "### October 11th, 2024\n",
    "##### The hypothesis I want to test is between two songs from two different albums from my favorite artist: glaive. My hypothesis is that \"god is dead\" from \"a bit of a mad one\" will have a lower loudness value than \"Nobodys Fault / Accept My Own\" from \"May It Never Falter.\" After giving these songs a listen, I think that \"Nobodys Fault / Accept My Own\" sounds louder. Using the data provided from Spotify' API, I will be able to tell exactly which song is louder.\n",
    "##### \"The overall loudness of a track in decibels (dB). Loudness values are averaged across the entire track and are useful for comparing relative loudness of tracks. Loudness is the quality of a sound that is the primary psychological correlate of physical strength (amplitude). Values typically range between -60 and 0 db.\" source: https://developer.spotify.com/documentation/web-api/reference/get-audio-features\n",
    "###### Note: the variable I will be using for \"a bit of a mad one\" is \"aboamo\" and \"minf\" for \"May It Never Falter.\""
   ]
  },
  {
   "cell_type": "code",
   "execution_count": 1,
   "id": "b42f02e8-5b59-49c2-88d7-59e939dde281",
   "metadata": {},
   "outputs": [],
   "source": [
    "import urllib\n",
    "import requests\n",
    "import pandas as pd\n",
    "import json\n",
    "import base64"
   ]
  },
  {
   "cell_type": "markdown",
   "id": "acaa6043-60d8-42a1-bffe-c5362b8c8352",
   "metadata": {},
   "source": [
    "Import calls for the software and files I will need to complete this report. urllib allows to read urls. requests allows to make a request to a website and API's. pandas, abbreviated to pd, allows for easier data organization such as tables. json allows to read and write in json format for the websites and API's that use json. base64 allows to use the encode and decode to encode/decode credentials."
   ]
  },
  {
   "cell_type": "code",
   "execution_count": 2,
   "id": "840221be-f0b5-4d6a-9641-3c21bc672712",
   "metadata": {},
   "outputs": [],
   "source": [
    "def get_session_token(SessionID, SessionKey):\n",
    "    url = 'https://accounts.spotify.com/api/token'\n",
    "    data = {'grant_type':'client_credentials'}\n",
    "    encoded_key = base64.b64encode(str(SessionID + \":\" + SessionKey).encode(\"ascii\"))\n",
    "    header = {'Authorization': 'Basic {}'.format(encoded_key.decode(\"ascii\"))}\n",
    "    response = requests.post(url, data = data, headers = header)\n",
    "    print(response.status_code)\n",
    "    return response.json()['access_token']"
   ]
  },
  {
   "cell_type": "markdown",
   "id": "315c7128-6778-4948-86d7-728965679684",
   "metadata": {},
   "source": [
    "def defines the function get_session_token with the variables SessionID and SessionKey that will be called from Spotify's API. url = ... defines the url that will request the SessionID and SessionKey. data = ... defines what type of credentials I will need- I am not super sure on this. encoded_key = ... combines SessionID and SessionKey into a string using (str(SessionID + \":\" + SessionKey). header = includes the SessionID and SessionKey combined string. response = ... sends a request to Spotify with url=, data= and headers=. print allows to print the status code (200's are what I want). return allows for a response of the access token in json format\n",
    "\n",
    "I am not sure what \"ascii\", 'Authorization' or 'Basic {}' do. "
   ]
  },
  {
   "cell_type": "code",
   "execution_count": 3,
   "id": "e982ab61-7563-460b-a8bf-a8bdad4550ea",
   "metadata": {},
   "outputs": [],
   "source": [
    "keys = pd.read_csv('keys.txt')"
   ]
  },
  {
   "cell_type": "markdown",
   "id": "46467af7-25cf-4848-bddc-851816391c7a",
   "metadata": {},
   "source": [
    "keys = calls for pandas to read the keys.txt file located in jupyter notebook."
   ]
  },
  {
   "cell_type": "code",
   "execution_count": 4,
   "id": "b3bb64a5-bac1-469c-b374-b13bdfeb4a74",
   "metadata": {},
   "outputs": [],
   "source": [
    "#keys"
   ]
  },
  {
   "cell_type": "markdown",
   "id": "1e25d806-27f5-431c-bf3c-e0ed3b400d14",
   "metadata": {},
   "source": [
    "Calls for the function to read the file."
   ]
  },
  {
   "cell_type": "code",
   "execution_count": 5,
   "id": "1a6180dc-ec10-4880-bb15-85f2d61144ff",
   "metadata": {},
   "outputs": [
    {
     "name": "stdout",
     "output_type": "stream",
     "text": [
      "200\n"
     ]
    }
   ],
   "source": [
    "access_token = get_session_token(keys['Client_ID'].iloc[0], keys['Client_Secret'].iloc[0])"
   ]
  },
  {
   "cell_type": "markdown",
   "id": "f02f030e-0ffd-4417-871c-898a71e687b6",
   "metadata": {},
   "source": [
    "Defines the access_token function to retrieve the session token keys located in the keys.txt file. keys selects the 0th element (using .iloc[0]) in \"Client_ID\" and the 0th element in \"Client_Secret.\""
   ]
  },
  {
   "cell_type": "code",
   "execution_count": 6,
   "id": "232ea77a-8173-4e21-a099-91d2334f284b",
   "metadata": {},
   "outputs": [],
   "source": [
    "#access_token"
   ]
  },
  {
   "cell_type": "markdown",
   "id": "dcb0b0e5-b67c-48d2-9a08-d121099099bb",
   "metadata": {},
   "source": [
    "Calls for the function to be processed."
   ]
  },
  {
   "cell_type": "code",
   "execution_count": 7,
   "id": "8411f599-0c23-4236-96ef-3043f9b81695",
   "metadata": {},
   "outputs": [],
   "source": [
    "t_features_ep = 'https://api.spotify.com/v1/audio-features'\n",
    "track_ep = 'https://api.spotify.com/v1/tracks'\n",
    "ab_tracks_ep = 'https://api.spotify.com/v1/albums/{}/tracks'"
   ]
  },
  {
   "cell_type": "markdown",
   "id": "68b387e1-6a0f-45c3-aa3a-b82bb7e53480",
   "metadata": {},
   "source": [
    "These functions call for the Spotify API's that I will need (audio features, tracks, and albums)- the ID of the album will go in {}."
   ]
  },
  {
   "cell_type": "code",
   "execution_count": 8,
   "id": "1311808d-cf7d-480c-9b94-a5e541785e38",
   "metadata": {},
   "outputs": [],
   "source": [
    "def api_call(endpoint_url, api_header):\n",
    "    response = requests.get(endpoint_url, headers = api_header)\n",
    "    print(response.status_code)\n",
    "    return response.json()"
   ]
  },
  {
   "cell_type": "markdown",
   "id": "8c13a46d-0da9-4d71-ba0a-12d42ffebadf",
   "metadata": {},
   "source": [
    "def defines the api_call function with the endpoint_url and api_header variables. response = ... sends a request to get the endpoint url and to the api header. print will print the status code. return will return the response in a json format."
   ]
  },
  {
   "cell_type": "code",
   "execution_count": 9,
   "id": "e6c94af6-2c50-4bb7-9c79-c73aadef8a78",
   "metadata": {},
   "outputs": [],
   "source": [
    "session_header = {'Authorization': 'Bearer {}'.format(access_token)}"
   ]
  },
  {
   "cell_type": "markdown",
   "id": "be771b6d-8e0c-4e59-9d28-fdf049635392",
   "metadata": {},
   "source": [
    "session_header is the function, but I am not sure what {'Authorization': 'Bearer {}'.format(access_token)} does."
   ]
  },
  {
   "cell_type": "code",
   "execution_count": 10,
   "id": "de463824-df31-4dae-a29c-483fe410b0b2",
   "metadata": {},
   "outputs": [],
   "source": [
    "minf_album_id = '3tuFrjiGVuKMYiX7eY3s4P'\n",
    "aboamo_album_id = '0SW2LQdzynFLJ05WzVYSJq'"
   ]
  },
  {
   "cell_type": "markdown",
   "id": "d227cb30-c039-48cf-bfd2-755db6dfb510",
   "metadata": {},
   "source": [
    "Define the album id's."
   ]
  },
  {
   "cell_type": "code",
   "execution_count": 11,
   "id": "29cbee16-99d2-44c4-9b55-e4382e7fa350",
   "metadata": {},
   "outputs": [],
   "source": [
    "#ab_tracks_ep.format(minf_album_id)"
   ]
  },
  {
   "cell_type": "code",
   "execution_count": 12,
   "id": "b16c9dfd-7e01-4cca-b0b0-0e56f8daba1c",
   "metadata": {},
   "outputs": [],
   "source": [
    "#ab_tracks_ep.format(aboamo_album_id)"
   ]
  },
  {
   "cell_type": "markdown",
   "id": "d885942a-ca83-4131-b2d9-80833018e1f1",
   "metadata": {},
   "source": [
    "Create api urls to the albums"
   ]
  },
  {
   "cell_type": "code",
   "execution_count": 13,
   "id": "1b8c6c50-4f2a-4269-a019-769edebdfa61",
   "metadata": {},
   "outputs": [
    {
     "name": "stdout",
     "output_type": "stream",
     "text": [
      "200\n",
      "200\n"
     ]
    }
   ],
   "source": [
    "minf_album_response = api_call(ab_tracks_ep.format(minf_album_id), session_header)\n",
    "aboamo_album_response = api_call(ab_tracks_ep.format(aboamo_album_id), session_header)"
   ]
  },
  {
   "cell_type": "markdown",
   "id": "aefed125-12e3-4874-97f8-cb3ad09cb16b",
   "metadata": {},
   "source": [
    "These are making a call to the Spotify API with the full urls above."
   ]
  },
  {
   "cell_type": "code",
   "execution_count": 14,
   "id": "be086501-b056-4766-82fe-4f5d052364d6",
   "metadata": {},
   "outputs": [],
   "source": [
    "minf_album_df = pd.DataFrame(minf_album_response['items'])\n",
    "aboamo_album_df = pd.DataFrame(aboamo_album_response['items'])"
   ]
  },
  {
   "cell_type": "markdown",
   "id": "8e3b72ef-75c1-4149-bdb5-75156e3c39be",
   "metadata": {},
   "source": [
    "Converts the data or \"items\" from the response of the API into tables."
   ]
  },
  {
   "cell_type": "code",
   "execution_count": 15,
   "id": "f62e355c-0025-4df6-b89e-e7dc3103c62f",
   "metadata": {},
   "outputs": [],
   "source": [
    "#minf_album_df.head(11)"
   ]
  },
  {
   "cell_type": "code",
   "execution_count": 16,
   "id": "3664f8eb-ba05-4943-b9f9-1832935f5a30",
   "metadata": {},
   "outputs": [],
   "source": [
    "#aboamo_album_df.head(7)"
   ]
  },
  {
   "cell_type": "markdown",
   "id": "d1377fd0-586e-40c9-9419-8eb5e83be862",
   "metadata": {},
   "source": [
    "Calls for the data tables, .head() shows the exact amount of tracks in the albums starting with 0."
   ]
  },
  {
   "cell_type": "code",
   "execution_count": 17,
   "id": "aa569e8e-c499-4300-828b-b8f41ef4b670",
   "metadata": {},
   "outputs": [],
   "source": [
    "minf_track_ids = ','.join(minf_album_df['id'].to_list())\n",
    "aboamo_track_ids = ','.join(aboamo_album_df['id'].to_list())"
   ]
  },
  {
   "cell_type": "markdown",
   "id": "5825e388-ebd3-4885-b89a-b471c23b3078",
   "metadata": {},
   "source": [
    "Defines and retrieves the track ID's from the albums formed into a list."
   ]
  },
  {
   "cell_type": "code",
   "execution_count": 18,
   "id": "e0c6db70-6d26-4044-ba95-aa4f82a306bf",
   "metadata": {},
   "outputs": [],
   "source": [
    "#t_features_ep + '?ids={}'.format(minf_track_ids)"
   ]
  },
  {
   "cell_type": "code",
   "execution_count": 19,
   "id": "4f5fc64c-3e20-4317-9652-9a0877bb8142",
   "metadata": {},
   "outputs": [],
   "source": [
    "#t_features_ep + '?ids={}'.format(aboamo_track_ids)"
   ]
  },
  {
   "cell_type": "markdown",
   "id": "59f48d62-bf09-47b5-b7f8-358d06229d72",
   "metadata": {},
   "source": [
    "Calls for the albums' track ID's to be put in a list."
   ]
  },
  {
   "cell_type": "code",
   "execution_count": 20,
   "id": "5ae97078-90dc-4ded-8371-5413e6e990e9",
   "metadata": {},
   "outputs": [
    {
     "name": "stdout",
     "output_type": "stream",
     "text": [
      "200\n",
      "200\n"
     ]
    }
   ],
   "source": [
    "minf_track_features = api_call(t_features_ep + '?ids={}'.format(minf_track_ids), session_header)\n",
    "aboamo_track_features = api_call(t_features_ep + '?ids={}'.format(aboamo_track_ids), session_header)"
   ]
  },
  {
   "cell_type": "markdown",
   "id": "fe745d26-2766-464f-a297-6cfb3609c0e2",
   "metadata": {},
   "source": [
    "Function to call for the track features and IDS"
   ]
  },
  {
   "cell_type": "code",
   "execution_count": 21,
   "id": "a68fe8a2-949e-4135-93e2-5295b433343e",
   "metadata": {},
   "outputs": [
    {
     "name": "stdout",
     "output_type": "stream",
     "text": [
      "200\n",
      "200\n"
     ]
    }
   ],
   "source": [
    "minf_track_info = api_call(track_ep + '?market=US&ids={}'.format(minf_track_ids), session_header)\n",
    "aboamo_track_info = api_call(track_ep + '?market=US&ids={}'.format(aboamo_track_ids), session_header)"
   ]
  },
  {
   "cell_type": "markdown",
   "id": "5edb8092-7768-4b29-8c05-f5433f179c65",
   "metadata": {},
   "source": [
    "Function to call for where the songs are available in the market and the IDS"
   ]
  },
  {
   "cell_type": "code",
   "execution_count": 22,
   "id": "9da3c373-fb9d-42ad-801c-99f59508291d",
   "metadata": {},
   "outputs": [],
   "source": [
    "minf_features_df = pd.DataFrame(minf_track_features['audio_features'])\n",
    "aboamo_features_df = pd.DataFrame(aboamo_track_features['audio_features'])"
   ]
  },
  {
   "cell_type": "markdown",
   "id": "102b455e-0b7e-4510-b0ac-8a7100db2c2e",
   "metadata": {},
   "source": [
    "Function to call the audio features of each track from each album and put them in a table."
   ]
  },
  {
   "cell_type": "code",
   "execution_count": 23,
   "id": "1bda35aa-963a-456a-ae29-ce4c3954c3c2",
   "metadata": {},
   "outputs": [],
   "source": [
    "#minf_features_df.head(11)"
   ]
  },
  {
   "cell_type": "code",
   "execution_count": 24,
   "id": "4f2dfa96-80b8-43de-9ffd-c7551bc268f4",
   "metadata": {},
   "outputs": [],
   "source": [
    "#aboamo_features_df.head(7)"
   ]
  },
  {
   "cell_type": "markdown",
   "id": "0d0c0f78-e930-4cf5-80f0-2940f1065373",
   "metadata": {},
   "source": [
    "Calls the audio features for both albums."
   ]
  },
  {
   "cell_type": "code",
   "execution_count": 25,
   "id": "a531eddb-1299-41da-9af1-fe4c1d8a6ad6",
   "metadata": {},
   "outputs": [],
   "source": [
    "minf_track_df = pd.DataFrame(minf_track_info['tracks'])\n",
    "aboamo_track_df = pd.DataFrame(aboamo_track_info['tracks'])"
   ]
  },
  {
   "cell_type": "markdown",
   "id": "7da3f203-f15f-4a68-88f0-a272f98cdc13",
   "metadata": {},
   "source": [
    "Function that calls the information about each track from each album"
   ]
  },
  {
   "cell_type": "code",
   "execution_count": 26,
   "id": "4006293a-5271-4a18-80de-4efbd13b32b8",
   "metadata": {},
   "outputs": [],
   "source": [
    "#minf_track_df.head(11)"
   ]
  },
  {
   "cell_type": "code",
   "execution_count": 27,
   "id": "fe19b501-aff1-4683-8c48-1ee30d478b87",
   "metadata": {
    "scrolled": true
   },
   "outputs": [],
   "source": [
    "#aboamo_track_df.head(7)"
   ]
  },
  {
   "cell_type": "markdown",
   "id": "13aa0242-a9bc-4b27-96c1-3c65e89600bd",
   "metadata": {},
   "source": [
    "Calls the funciton to provide all tracks and all information."
   ]
  },
  {
   "cell_type": "code",
   "execution_count": 28,
   "id": "305ac13a-5699-4d76-aa1d-676f57c6a348",
   "metadata": {},
   "outputs": [],
   "source": [
    "minf_merged = pd.merge(minf_features_df, minf_track_df, how = 'inner', on = 'id')"
   ]
  },
  {
   "cell_type": "markdown",
   "id": "d7f6c1f1-df5a-4a10-9bfe-bc555289f793",
   "metadata": {},
   "source": [
    "Merges track features and tracks for \"May It Never Falter.\" I am not sure what how = 'inner', on = 'id' means."
   ]
  },
  {
   "cell_type": "code",
   "execution_count": 29,
   "id": "d773cbb0-6769-4f34-9495-cbcb73238366",
   "metadata": {},
   "outputs": [],
   "source": [
    "#minf_merged.head(11)"
   ]
  },
  {
   "cell_type": "markdown",
   "id": "34a2ae2a-ee2b-4311-8a1e-9a876a964b70",
   "metadata": {},
   "source": [
    "Calls for the merged audio features and tracks in a table."
   ]
  },
  {
   "cell_type": "code",
   "execution_count": 30,
   "id": "1cc29c5b-354b-4bcc-9d18-8021c1cbb137",
   "metadata": {},
   "outputs": [],
   "source": [
    "aboamo_merged = pd.merge(aboamo_features_df, aboamo_track_df, how = 'inner', on = 'id')"
   ]
  },
  {
   "cell_type": "markdown",
   "id": "d6df7ee8-691e-493e-9142-a4af1260f393",
   "metadata": {},
   "source": [
    "Merges track features and tracks for \"a bit of a mad one\" I am not sure what how = 'inner', on = 'id' means."
   ]
  },
  {
   "cell_type": "code",
   "execution_count": 31,
   "id": "798519c3-b5f6-42be-8ff5-ff9e03fb517a",
   "metadata": {
    "scrolled": true
   },
   "outputs": [],
   "source": [
    "#aboamo_merged.head(7)"
   ]
  },
  {
   "cell_type": "markdown",
   "id": "eef61a58-84f8-4aed-931f-88c564f09137",
   "metadata": {},
   "source": [
    "Calls for the merged audio features and tracks in a table."
   ]
  },
  {
   "cell_type": "code",
   "execution_count": 32,
   "id": "71db8191-4d74-4a35-9be8-95046c38962c",
   "metadata": {},
   "outputs": [],
   "source": [
    "minf_merged['EP'] = \"May It Never Falter\"\n",
    "aboamo_merged['EP'] = \"a bit of a mad one\""
   ]
  },
  {
   "cell_type": "markdown",
   "id": "13e7d75d-d22c-49fa-bc2c-41919a6bef6b",
   "metadata": {},
   "source": [
    "Defining that minf_merged is the EP \"May It Never Falter\" and that aboamo_merged is the \"a bit of a mad one\" EP."
   ]
  },
  {
   "cell_type": "code",
   "execution_count": 33,
   "id": "9a3f32dc-3789-41d9-8a04-ea475d4af4f3",
   "metadata": {},
   "outputs": [
    {
     "data": {
      "text/plain": [
       "Index(['danceability', 'energy', 'key', 'loudness', 'mode', 'speechiness',\n",
       "       'acousticness', 'instrumentalness', 'liveness', 'valence', 'tempo',\n",
       "       'type_x', 'id', 'uri_x', 'track_href', 'analysis_url', 'duration_ms_x',\n",
       "       'time_signature', 'album', 'artists', 'disc_number', 'duration_ms_y',\n",
       "       'explicit', 'external_ids', 'external_urls', 'href', 'is_local',\n",
       "       'is_playable', 'name', 'popularity', 'preview_url', 'track_number',\n",
       "       'type_y', 'uri_y', 'EP'],\n",
       "      dtype='object')"
      ]
     },
     "execution_count": 33,
     "metadata": {},
     "output_type": "execute_result"
    }
   ],
   "source": [
    "minf_merged.columns"
   ]
  },
  {
   "cell_type": "markdown",
   "id": "1374b7b7-a9b7-4e1c-934d-ce743a264737",
   "metadata": {},
   "source": [
    "Shows all of the possible columns."
   ]
  },
  {
   "cell_type": "code",
   "execution_count": 34,
   "id": "9aca7803-26fa-4f4a-b848-3af52c399a18",
   "metadata": {},
   "outputs": [],
   "source": [
    "minf = minf_merged.drop(columns = ['danceability', 'energy', 'key', 'mode', 'speechiness',\n",
    "       'acousticness', 'instrumentalness', 'liveness', 'valence', 'tempo',\n",
    "       'type_x', 'id', 'uri_x', 'track_href', 'analysis_url', 'duration_ms_x',\n",
    "       'time_signature', 'album', 'artists', 'disc_number', 'duration_ms_y',\n",
    "       'explicit', 'external_ids', 'external_urls', 'href', 'is_local',\n",
    "       'is_playable', 'popularity', 'preview_url', 'track_number',\n",
    "       'type_y', 'uri_y', 'EP'])"
   ]
  },
  {
   "cell_type": "markdown",
   "id": "7a6ee94f-56e9-48af-8c0b-679fc4838cde",
   "metadata": {},
   "source": [
    "Drops the selected colums."
   ]
  },
  {
   "cell_type": "code",
   "execution_count": 35,
   "id": "93086d5d-7f5e-4a1a-a0c6-b427d83589a7",
   "metadata": {},
   "outputs": [],
   "source": [
    "#minf"
   ]
  },
  {
   "cell_type": "markdown",
   "id": "25f69433-7adb-4b5e-bf18-e1e205e223f3",
   "metadata": {},
   "source": [
    "Calls for the remaining columns."
   ]
  },
  {
   "cell_type": "code",
   "execution_count": 36,
   "id": "50cab147-e494-401f-ab8a-8be45052b165",
   "metadata": {},
   "outputs": [
    {
     "data": {
      "text/plain": [
       "9    Nobodys Fault / Accept My Own\n",
       "Name: name, dtype: object"
      ]
     },
     "execution_count": 36,
     "metadata": {},
     "output_type": "execute_result"
    }
   ],
   "source": [
    "minf['name'].iloc[[9]]"
   ]
  },
  {
   "cell_type": "markdown",
   "id": "82a386ed-2430-46e8-bfc5-0d6220fdb652",
   "metadata": {},
   "source": [
    "Selects the name of the 9th most column."
   ]
  },
  {
   "cell_type": "code",
   "execution_count": 37,
   "id": "243b78e6-1c57-4cdf-9c38-78b3a1858a90",
   "metadata": {},
   "outputs": [
    {
     "data": {
      "text/plain": [
       "Index(['danceability', 'energy', 'key', 'loudness', 'mode', 'speechiness',\n",
       "       'acousticness', 'instrumentalness', 'liveness', 'valence', 'tempo',\n",
       "       'type_x', 'id', 'uri_x', 'track_href', 'analysis_url', 'duration_ms_x',\n",
       "       'time_signature', 'album', 'artists', 'disc_number', 'duration_ms_y',\n",
       "       'explicit', 'external_ids', 'external_urls', 'href', 'is_local',\n",
       "       'is_playable', 'name', 'popularity', 'track_number', 'type_y', 'uri_y',\n",
       "       'EP'],\n",
       "      dtype='object')"
      ]
     },
     "execution_count": 37,
     "metadata": {},
     "output_type": "execute_result"
    }
   ],
   "source": [
    "aboamo_merged.columns"
   ]
  },
  {
   "cell_type": "code",
   "execution_count": 38,
   "id": "342c8a9f-9a87-4c8d-8b8d-8145871774b0",
   "metadata": {},
   "outputs": [],
   "source": [
    "aboamo = aboamo_merged.drop(columns = ['danceability', 'energy', 'key', 'mode', 'speechiness',\n",
    "       'acousticness', 'instrumentalness', 'liveness', 'valence', 'tempo',\n",
    "       'type_x', 'id', 'uri_x', 'track_href', 'analysis_url', 'duration_ms_x',\n",
    "       'time_signature', 'album', 'artists', 'disc_number', 'duration_ms_y',\n",
    "       'explicit', 'external_ids', 'external_urls', 'href', 'is_local',\n",
    "       'is_playable', 'popularity', 'track_number', 'type_y', 'uri_y',\n",
    "       'EP'])"
   ]
  },
  {
   "cell_type": "code",
   "execution_count": 39,
   "id": "35afcaaa-0c00-4b1a-8bd2-e0cc1ff5b3f7",
   "metadata": {},
   "outputs": [],
   "source": [
    "#aboamo"
   ]
  },
  {
   "cell_type": "code",
   "execution_count": 40,
   "id": "dfa18879-a1f4-42e0-86ba-b550e3a41205",
   "metadata": {},
   "outputs": [
    {
     "data": {
      "text/plain": [
       "4    god is dead\n",
       "Name: name, dtype: object"
      ]
     },
     "execution_count": 40,
     "metadata": {},
     "output_type": "execute_result"
    }
   ],
   "source": [
    "aboamo['name'].iloc[[4]]"
   ]
  },
  {
   "cell_type": "code",
   "execution_count": 41,
   "id": "b8e72f7b-3a88-4646-8848-888d49c0cb83",
   "metadata": {},
   "outputs": [],
   "source": [
    "song_compare = pd.concat([minf[['loudness', 'name']].iloc[[9]], aboamo[['loudness', 'name']].iloc[[4]]], axis=0)"
   ]
  },
  {
   "cell_type": "markdown",
   "id": "264bff65-d5ab-4b71-b8ac-bd6012301e20",
   "metadata": {},
   "source": [
    "Merges minf and aboamo loudnesses and names of the 9th most column in minf and 4th most column in aboamo in a table."
   ]
  },
  {
   "cell_type": "code",
   "execution_count": 42,
   "id": "0e3a16ae-dc20-4a86-a31e-10a1d5f911b2",
   "metadata": {
    "scrolled": true
   },
   "outputs": [],
   "source": [
    "#song_compare"
   ]
  },
  {
   "cell_type": "markdown",
   "id": "d492d882-01f9-48cb-b9c7-e361f35153b1",
   "metadata": {},
   "source": [
    "Calls for the song_compare function."
   ]
  },
  {
   "cell_type": "code",
   "execution_count": 43,
   "id": "34314f58-d74c-4a51-ab62-2bea0c1f9560",
   "metadata": {},
   "outputs": [
    {
     "data": {
      "text/html": [
       "<div>\n",
       "<style scoped>\n",
       "    .dataframe tbody tr th:only-of-type {\n",
       "        vertical-align: middle;\n",
       "    }\n",
       "\n",
       "    .dataframe tbody tr th {\n",
       "        vertical-align: top;\n",
       "    }\n",
       "\n",
       "    .dataframe thead th {\n",
       "        text-align: right;\n",
       "    }\n",
       "</style>\n",
       "<table border=\"1\" class=\"dataframe\">\n",
       "  <thead>\n",
       "    <tr style=\"text-align: right;\">\n",
       "      <th></th>\n",
       "      <th>loudness</th>\n",
       "      <th>name</th>\n",
       "    </tr>\n",
       "  </thead>\n",
       "  <tbody>\n",
       "    <tr>\n",
       "      <th>9</th>\n",
       "      <td>-4.209</td>\n",
       "      <td>Nobodys Fault / Accept My Own</td>\n",
       "    </tr>\n",
       "    <tr>\n",
       "      <th>4</th>\n",
       "      <td>-6.304</td>\n",
       "      <td>god is dead</td>\n",
       "    </tr>\n",
       "  </tbody>\n",
       "</table>\n",
       "</div>"
      ],
      "text/plain": [
       "   loudness                           name\n",
       "9    -4.209  Nobodys Fault / Accept My Own\n",
       "4    -6.304                    god is dead"
      ]
     },
     "execution_count": 43,
     "metadata": {},
     "output_type": "execute_result"
    }
   ],
   "source": [
    "song_compare_df = pd.DataFrame(song_compare[['loudness', 'name']])\n",
    "song_compare_df.sort_values('loudness', ascending = False)"
   ]
  },
  {
   "cell_type": "markdown",
   "id": "8a3b873e-6776-48dc-91ba-9a32e7ee269e",
   "metadata": {},
   "source": [
    "Compares the loudness of the songs from lowest to highest."
   ]
  },
  {
   "cell_type": "markdown",
   "id": "ff2f58e6-77c1-4583-8972-adcd9a65c8ec",
   "metadata": {},
   "source": [
    "According to the table, it shows that \"Nobodys Fault / Accept My Own\" is louder than \"god is dead\" - \"Nobodys Fault / Accept My Own\" is closer to zero, therefore it is louder. According to my hypothesis, I hypothesized correctly by saying \"god is dead\" has a lower loudness value than \"Nobodys Fault / Accept My Own.\" "
   ]
  },
  {
   "cell_type": "markdown",
   "id": "3037733a-1b05-4cd1-a9cd-af89b8df761c",
   "metadata": {},
   "source": [
    "While doing this report, a limitation I came across was the \"lack\" of data Spotify provides. The loudness value, as well as other audio feature values, is a flat, generic number. I think that with this flat number, Spotify is lacking data that shows where parts of a song are loud and/or the different loudness values throughout a whole track- where is it the loudest, quietest? Another limitation is error. While I was completing this report, I had questioned where exactly these numbers came from and how they are calculated. I know that with loudness, it is calculated on a decible scale- but who or what is doing the calculation? Is there or has there been error with these calculations, misclick even? Though I do not know how some audio features are calculated such as valence and loudness, I think that an alternative to prevent error would be to calculate the audio feature multiple times and take the average, depending on how it is calculated."
   ]
  }
 ],
 "metadata": {
  "kernelspec": {
   "display_name": "Python 3 (ipykernel)",
   "language": "python",
   "name": "python3"
  },
  "language_info": {
   "codemirror_mode": {
    "name": "ipython",
    "version": 3
   },
   "file_extension": ".py",
   "mimetype": "text/x-python",
   "name": "python",
   "nbconvert_exporter": "python",
   "pygments_lexer": "ipython3",
   "version": "3.12.4"
  }
 },
 "nbformat": 4,
 "nbformat_minor": 5
}
