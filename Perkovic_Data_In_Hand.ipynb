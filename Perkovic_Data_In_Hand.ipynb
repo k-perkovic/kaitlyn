{
 "cells": [
  {
   "cell_type": "code",
   "execution_count": 40,
   "id": "39c4b031-4953-4bc1-bba3-b920aea41ea3",
   "metadata": {},
   "outputs": [],
   "source": [
    "import pandas as pd\n",
    "import requests\n",
    "from io import StringIO\n",
    "import json\n",
    "import matplotlib"
   ]
  },
  {
   "cell_type": "code",
   "execution_count": 41,
   "id": "13f9e307-c1c7-4824-9f15-d9c9a2d5a334",
   "metadata": {},
   "outputs": [
    {
     "data": {
      "text/plain": [
       "Index(['riot_api_key'], dtype='object')"
      ]
     },
     "execution_count": 41,
     "metadata": {},
     "output_type": "execute_result"
    }
   ],
   "source": [
    "key = pd.read_csv('riotapikey.txt')\n",
    "key.keys()"
   ]
  },
  {
   "cell_type": "code",
   "execution_count": 42,
   "id": "cc13b304-91cb-4e49-8a7e-338de6e48c9d",
   "metadata": {},
   "outputs": [],
   "source": [
    "#key"
   ]
  },
  {
   "cell_type": "code",
   "execution_count": 43,
   "id": "002506f7-972d-48f8-817b-881fd00b7cfa",
   "metadata": {},
   "outputs": [],
   "source": [
    "matches_api_url = 'https://americas.api.riotgames.com/tft/match/v1/matches/by-puuid/kAyLsUWjjLXsTfx2KTnaoJosyIFQlTEgV7Cq7P6FFlkcNqJvomESh7u2NUncHkluC_-fAxGdt1xSVg/ids?start=0&count=5&api_key=RGAPI-137983a5-c4e0-4fa5-9a13-ac2f79c7e953'\n",
    "key_url = 'key='+str(key)"
   ]
  },
  {
   "cell_type": "code",
   "execution_count": 44,
   "id": "d19846dd-2589-4a8a-a4ef-b1a20100764a",
   "metadata": {},
   "outputs": [
    {
     "data": {
      "text/plain": [
       "200"
      ]
     },
     "execution_count": 44,
     "metadata": {},
     "output_type": "execute_result"
    }
   ],
   "source": [
    "response_matches_api_url = requests.get(matches_api_url)\n",
    "response_matches_api_url.status_code"
   ]
  },
  {
   "cell_type": "code",
   "execution_count": 45,
   "id": "0225869d-b446-462a-b4f1-c360948bfe38",
   "metadata": {},
   "outputs": [
    {
     "data": {
      "text/plain": [
       "'[\"NA1_5159861958\",\"NA1_5159817443\",\"NA1_5159542873\",\"NA1_5159521701\",\"NA1_5159489034\"]'"
      ]
     },
     "execution_count": 45,
     "metadata": {},
     "output_type": "execute_result"
    }
   ],
   "source": [
    "response_matches_api_url.text"
   ]
  },
  {
   "cell_type": "code",
   "execution_count": 46,
   "id": "ee7c4995-6aea-4bc0-a8c4-5738a4341672",
   "metadata": {},
   "outputs": [],
   "source": [
    "match_1958_api_url = 'https://americas.api.riotgames.com/tft/match/v1/matches/NA1_5159861958?api_key=RGAPI-137983a5-c4e0-4fa5-9a13-ac2f79c7e953'"
   ]
  },
  {
   "cell_type": "code",
   "execution_count": 47,
   "id": "b21ad63d-c732-43d9-a672-6b6ae4b81b51",
   "metadata": {},
   "outputs": [
    {
     "data": {
      "text/plain": [
       "200"
      ]
     },
     "execution_count": 47,
     "metadata": {},
     "output_type": "execute_result"
    }
   ],
   "source": [
    "response_match_1958_api_url = requests.get(match_1958_api_url)\n",
    "response_match_1958_api_url.status_code"
   ]
  },
  {
   "cell_type": "markdown",
   "id": "6fd55d3e-21a3-43cb-81f8-eb4430dfb82e",
   "metadata": {},
   "source": [
    "There are a few difficult parts to this project. One of the more annoying parts is having to refresh the api key every day (or so), meaning I have to refresh the api urls. The other difficult part about this project is trying to figure out how I can list the contents of the api's in a tidy data format. I have tried to put the content of the api urls in a txt file, however I saw myself getting stuck- I have access to the data, I am just confused as to where I can start/how to sparse the data.\n",
    "\n",
    "One thing I noticed with the data is that the data is a string. I am unsure on how to make it a list or a dictionary."
   ]
  },
  {
   "cell_type": "code",
   "execution_count": null,
   "id": "07a8993c-9cf2-446e-93b5-ba6049fe00ba",
   "metadata": {},
   "outputs": [],
   "source": []
  },
  {
   "cell_type": "code",
   "execution_count": null,
   "id": "2e6a6d46-2dc6-4f08-994f-04a0c10fbc19",
   "metadata": {},
   "outputs": [],
   "source": []
  },
  {
   "cell_type": "code",
   "execution_count": null,
   "id": "dcc889e8-ffd1-494d-80af-71f0020b6a8a",
   "metadata": {},
   "outputs": [],
   "source": []
  },
  {
   "cell_type": "code",
   "execution_count": null,
   "id": "5fe21a76-d4da-4449-a5e1-1b94d091e686",
   "metadata": {},
   "outputs": [],
   "source": []
  },
  {
   "cell_type": "code",
   "execution_count": null,
   "id": "50f1febd-d4af-4204-8cf8-77472f22d1f1",
   "metadata": {},
   "outputs": [],
   "source": []
  },
  {
   "cell_type": "code",
   "execution_count": null,
   "id": "31c004f8-4f54-4501-8831-bfc1997b0e6d",
   "metadata": {},
   "outputs": [],
   "source": []
  },
  {
   "cell_type": "code",
   "execution_count": null,
   "id": "2ebb9e13-ccbd-444c-b3c2-532095be6470",
   "metadata": {},
   "outputs": [],
   "source": []
  },
  {
   "cell_type": "code",
   "execution_count": 64,
   "id": "4c0be158-2aaf-4840-9fa3-19a1d182e84c",
   "metadata": {},
   "outputs": [
    {
     "data": {
      "text/plain": [
       "403"
      ]
     },
     "execution_count": 64,
     "metadata": {},
     "output_type": "execute_result"
    }
   ],
   "source": []
  },
  {
   "cell_type": "code",
   "execution_count": 59,
   "id": "640c5c3d-596f-49ca-86b4-6eee78f664a8",
   "metadata": {},
   "outputs": [
    {
     "data": {
      "text/plain": [
       "403"
      ]
     },
     "execution_count": 59,
     "metadata": {},
     "output_type": "execute_result"
    }
   ],
   "source": []
  },
  {
   "cell_type": "code",
   "execution_count": 56,
   "id": "f08b1657-6739-4f43-9c43-ad9500ad8c59",
   "metadata": {},
   "outputs": [
    {
     "data": {
      "text/plain": [
       "403"
      ]
     },
     "execution_count": 56,
     "metadata": {},
     "output_type": "execute_result"
    }
   ],
   "source": []
  },
  {
   "cell_type": "code",
   "execution_count": 60,
   "id": "b11f62cd-74e4-44ee-89bd-27debb9c7b47",
   "metadata": {},
   "outputs": [
    {
     "data": {
      "text/plain": [
       "403"
      ]
     },
     "execution_count": 60,
     "metadata": {},
     "output_type": "execute_result"
    }
   ],
   "source": []
  },
  {
   "cell_type": "code",
   "execution_count": null,
   "id": "a97a6294-fc98-48b8-8a82-75159059d6a8",
   "metadata": {},
   "outputs": [],
   "source": []
  },
  {
   "cell_type": "code",
   "execution_count": null,
   "id": "c03c2fd2-d986-44d1-a23e-b026d16a4164",
   "metadata": {},
   "outputs": [],
   "source": []
  },
  {
   "cell_type": "code",
   "execution_count": null,
   "id": "9c3e08f8-bd08-4cf7-abea-91eb588c97da",
   "metadata": {},
   "outputs": [],
   "source": []
  },
  {
   "cell_type": "code",
   "execution_count": null,
   "id": "ac94e468-4ec3-4c36-b069-e66c005a655c",
   "metadata": {},
   "outputs": [],
   "source": []
  },
  {
   "cell_type": "code",
   "execution_count": 17,
   "id": "77b94b69-f527-4139-a0e5-54f2f1b4bfbf",
   "metadata": {},
   "outputs": [
    {
     "data": {
      "text/plain": [
       "200"
      ]
     },
     "execution_count": 17,
     "metadata": {},
     "output_type": "execute_result"
    }
   ],
   "source": []
  },
  {
   "cell_type": "code",
   "execution_count": 24,
   "id": "cfad63bf-3340-4184-8794-2e3bd39ddbbb",
   "metadata": {},
   "outputs": [],
   "source": []
  },
  {
   "cell_type": "code",
   "execution_count": 110,
   "id": "ba05fa25-b682-4afc-9f6f-bbad922db5b5",
   "metadata": {},
   "outputs": [
    {
     "data": {
      "text/plain": [
       "str"
      ]
     },
     "execution_count": 110,
     "metadata": {},
     "output_type": "execute_result"
    }
   ],
   "source": []
  },
  {
   "cell_type": "code",
   "execution_count": null,
   "id": "5acfa781-7727-426b-b594-3d05f01bc0cc",
   "metadata": {},
   "outputs": [],
   "source": []
  },
  {
   "cell_type": "code",
   "execution_count": null,
   "id": "54dda9d1-a458-4573-9aa7-d1e3eb065d69",
   "metadata": {},
   "outputs": [],
   "source": []
  },
  {
   "cell_type": "code",
   "execution_count": null,
   "id": "170cc6e9-6705-4eec-89c9-e5c885c5b026",
   "metadata": {},
   "outputs": [],
   "source": []
  },
  {
   "cell_type": "code",
   "execution_count": null,
   "id": "c477bc1e-96a9-40fa-9fb9-48288bb29ae6",
   "metadata": {},
   "outputs": [],
   "source": []
  },
  {
   "cell_type": "code",
   "execution_count": null,
   "id": "0010ad92-a522-49af-8a0e-0bc5b3c97f03",
   "metadata": {},
   "outputs": [],
   "source": []
  },
  {
   "cell_type": "code",
   "execution_count": null,
   "id": "458504b0-13aa-4f88-b48c-6f761b2c7958",
   "metadata": {},
   "outputs": [],
   "source": []
  },
  {
   "cell_type": "code",
   "execution_count": null,
   "id": "0592773c-dffc-4d4d-aa64-db97fcc61d9a",
   "metadata": {},
   "outputs": [],
   "source": []
  },
  {
   "cell_type": "code",
   "execution_count": null,
   "id": "826ace03-e7ff-4094-8943-96a17ef1ab18",
   "metadata": {},
   "outputs": [],
   "source": [
    "#match_11188_df1 = pd.DataFrame(match_11188_api_url_list)\n",
    "#match_11188_df1.head()"
   ]
  },
  {
   "cell_type": "code",
   "execution_count": null,
   "id": "c3a59019-c305-4e4e-8d2c-fc112b0c7237",
   "metadata": {},
   "outputs": [],
   "source": []
  },
  {
   "cell_type": "code",
   "execution_count": null,
   "id": "ea4af2f8-2952-42d0-85ae-ec3853bcca50",
   "metadata": {},
   "outputs": [],
   "source": []
  },
  {
   "cell_type": "code",
   "execution_count": 127,
   "id": "7410ca8d-b4ac-46d4-bc50-1ac1910d96be",
   "metadata": {},
   "outputs": [],
   "source": []
  },
  {
   "cell_type": "code",
   "execution_count": null,
   "id": "87c50990-2f28-4bde-b65b-f505415c9e6f",
   "metadata": {},
   "outputs": [],
   "source": []
  },
  {
   "cell_type": "code",
   "execution_count": null,
   "id": "d0e2e4d2-bd6a-4621-8221-ad999f89cc0a",
   "metadata": {},
   "outputs": [],
   "source": []
  },
  {
   "cell_type": "code",
   "execution_count": null,
   "id": "18cc389f-2e3c-4e11-8543-c9fcec8819e0",
   "metadata": {},
   "outputs": [],
   "source": []
  }
 ],
 "metadata": {
  "kernelspec": {
   "display_name": "Python 3 (ipykernel)",
   "language": "python",
   "name": "python3"
  },
  "language_info": {
   "codemirror_mode": {
    "name": "ipython",
    "version": 3
   },
   "file_extension": ".py",
   "mimetype": "text/x-python",
   "name": "python",
   "nbconvert_exporter": "python",
   "pygments_lexer": "ipython3",
   "version": "3.12.4"
  }
 },
 "nbformat": 4,
 "nbformat_minor": 5
}
